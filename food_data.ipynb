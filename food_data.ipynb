{
 "metadata": {
  "language_info": {
   "codemirror_mode": {
    "name": "ipython",
    "version": 3
   },
   "file_extension": ".py",
   "mimetype": "text/x-python",
   "name": "python",
   "nbconvert_exporter": "python",
   "pygments_lexer": "ipython3",
   "version": "3.8.5-final"
  },
  "orig_nbformat": 2,
  "kernelspec": {
   "name": "python3",
   "display_name": "Python 3.8.5 64-bit",
   "metadata": {
    "interpreter": {
     "hash": "6dc998313daffe613b35cf6ce1ad97f105f322f72c5da39a93ed9d47ae0b8e67"
    }
   }
  }
 },
 "nbformat": 4,
 "nbformat_minor": 2,
 "cells": [
  {
   "cell_type": "code",
   "execution_count": 229,
   "metadata": {},
   "outputs": [],
   "source": [
    "# Reference: https://datacarpentry.org/python-ecology-lesson/09-working-with-sql/index.html\n",
    "import sqlite3\n",
    "# !pip3 install pandas\n",
    "import pandas as pd"
   ]
  },
  {
   "cell_type": "code",
   "execution_count": 230,
   "metadata": {},
   "outputs": [],
   "source": [
    "connection = sqlite3.connect(\"./food_data.sqlite\")"
   ]
  },
  {
   "cell_type": "code",
   "execution_count": 231,
   "metadata": {
    "tags": []
   },
   "outputs": [],
   "source": [
    "# import scraped data\n",
    "wiki_food = pd.read_sql_query(\"SELECT * from wiki_food\", connection)\n",
    "wiki_category = pd.read_sql_query(\"SELECT * from wiki_category\", connection)\n",
    "wiki_food_category = pd.read_sql_query(\"SELECT * from wiki_food_category\", connection)"
   ]
  },
  {
   "cell_type": "code",
   "execution_count": 232,
   "metadata": {},
   "outputs": [],
   "source": [
    "# set indicies\n",
    "wiki_food.set_index('id', inplace=True)\n",
    "wiki_category.set_index('id', inplace=True)\n",
    "wiki_food_category.set_index('id', inplace=True)"
   ]
  },
  {
   "cell_type": "code",
   "execution_count": 233,
   "metadata": {},
   "outputs": [
    {
     "output_type": "execute_result",
     "data": {
      "text/plain": [
       "           name                                        description  \\\n",
       "id                                                                   \n",
       "1        Breads  This is a list of notable baked or steamed bre...   \n",
       "2   Fried Dough  This is a list of fried dough foods. Many cult...   \n",
       "3         Dairy  This is a list of dairy products. A dairy prod...   \n",
       "4        Cheese  This is a list of cheeses by place of origin. ...   \n",
       "5         Cakes  The following is a list of types of dessert ca...   \n",
       "\n",
       "                                             wiki_url  parent_category  \n",
       "id                                                                      \n",
       "1        https://en.wikipedia.org/wiki/List_of_breads              NaN  \n",
       "2   https://en.wikipedia.org/wiki/List_of_fried_do...              NaN  \n",
       "3   https://en.wikipedia.org/wiki/List_of_dairy_pr...              NaN  \n",
       "4       https://en.wikipedia.org/wiki/List_of_cheeses              NaN  \n",
       "5         https://en.wikipedia.org/wiki/List_of_cakes              NaN  "
      ],
      "text/html": "<div>\n<style scoped>\n    .dataframe tbody tr th:only-of-type {\n        vertical-align: middle;\n    }\n\n    .dataframe tbody tr th {\n        vertical-align: top;\n    }\n\n    .dataframe thead th {\n        text-align: right;\n    }\n</style>\n<table border=\"1\" class=\"dataframe\">\n  <thead>\n    <tr style=\"text-align: right;\">\n      <th></th>\n      <th>name</th>\n      <th>description</th>\n      <th>wiki_url</th>\n      <th>parent_category</th>\n    </tr>\n    <tr>\n      <th>id</th>\n      <th></th>\n      <th></th>\n      <th></th>\n      <th></th>\n    </tr>\n  </thead>\n  <tbody>\n    <tr>\n      <th>1</th>\n      <td>Breads</td>\n      <td>This is a list of notable baked or steamed bre...</td>\n      <td>https://en.wikipedia.org/wiki/List_of_breads</td>\n      <td>NaN</td>\n    </tr>\n    <tr>\n      <th>2</th>\n      <td>Fried Dough</td>\n      <td>This is a list of fried dough foods. Many cult...</td>\n      <td>https://en.wikipedia.org/wiki/List_of_fried_do...</td>\n      <td>NaN</td>\n    </tr>\n    <tr>\n      <th>3</th>\n      <td>Dairy</td>\n      <td>This is a list of dairy products. A dairy prod...</td>\n      <td>https://en.wikipedia.org/wiki/List_of_dairy_pr...</td>\n      <td>NaN</td>\n    </tr>\n    <tr>\n      <th>4</th>\n      <td>Cheese</td>\n      <td>This is a list of cheeses by place of origin. ...</td>\n      <td>https://en.wikipedia.org/wiki/List_of_cheeses</td>\n      <td>NaN</td>\n    </tr>\n    <tr>\n      <th>5</th>\n      <td>Cakes</td>\n      <td>The following is a list of types of dessert ca...</td>\n      <td>https://en.wikipedia.org/wiki/List_of_cakes</td>\n      <td>NaN</td>\n    </tr>\n  </tbody>\n</table>\n</div>"
     },
     "metadata": {},
     "execution_count": 233
    }
   ],
   "source": [
    "wiki_category.head()"
   ]
  },
  {
   "cell_type": "code",
   "execution_count": 206,
   "metadata": {},
   "outputs": [
    {
     "output_type": "execute_result",
     "data": {
      "text/plain": [
       "            name                                        description  \\\n",
       "id                                                                    \n",
       "1         Breads  d or steamed bread varieties. Bread has been a...   \n",
       "2    Fried Dough  This is a list of fried dough foods. Many cult...   \n",
       "3          Dairy  This is a list of dairy products. A dairy prod...   \n",
       "4         Cheese  This is a list of cheeses by place of origin. ...   \n",
       "5          Pomes  Pomes include any crunchy accessory fruit that...   \n",
       "..           ...                                                ...   \n",
       "140         Fish  Many species of fish are consumed as food in v...   \n",
       "141      Seafood  Seafood is any form of sea life regarded as fo...   \n",
       "142         Nuts                                                      \n",
       "144       Sauces  A dip or dipping sauce is a common condiment f...   \n",
       "145    Mushrooms  Edible mushrooms are the fleshy and edible fru...   \n",
       "\n",
       "                                              wiki_url parent_category  \n",
       "id                                                                      \n",
       "1                                                                 None  \n",
       "2                                                                 None  \n",
       "3                                                                 None  \n",
       "4                                                                 None  \n",
       "5                                                                 None  \n",
       "..                                                 ...             ...  \n",
       "140         https://en.wikipedia.org/wiki/Fish_as_food            None  \n",
       "141              https://en.wikipedia.org/wiki/Seafood            None  \n",
       "142  https://en.wikipedia.org/wiki/List_of_culinary...             NaN  \n",
       "144        https://en.wikipedia.org/wiki/Dipping_sauce             NaN  \n",
       "145      https://en.wikipedia.org/wiki/Edible_mushroom             NaN  \n",
       "\n",
       "[117 rows x 4 columns]"
      ],
      "text/html": "<div>\n<style scoped>\n    .dataframe tbody tr th:only-of-type {\n        vertical-align: middle;\n    }\n\n    .dataframe tbody tr th {\n        vertical-align: top;\n    }\n\n    .dataframe thead th {\n        text-align: right;\n    }\n</style>\n<table border=\"1\" class=\"dataframe\">\n  <thead>\n    <tr style=\"text-align: right;\">\n      <th></th>\n      <th>name</th>\n      <th>description</th>\n      <th>wiki_url</th>\n      <th>parent_category</th>\n    </tr>\n    <tr>\n      <th>id</th>\n      <th></th>\n      <th></th>\n      <th></th>\n      <th></th>\n    </tr>\n  </thead>\n  <tbody>\n    <tr>\n      <th>1</th>\n      <td>Breads</td>\n      <td>d or steamed bread varieties. Bread has been a...</td>\n      <td></td>\n      <td>None</td>\n    </tr>\n    <tr>\n      <th>2</th>\n      <td>Fried Dough</td>\n      <td>This is a list of fried dough foods. Many cult...</td>\n      <td></td>\n      <td>None</td>\n    </tr>\n    <tr>\n      <th>3</th>\n      <td>Dairy</td>\n      <td>This is a list of dairy products. A dairy prod...</td>\n      <td></td>\n      <td>None</td>\n    </tr>\n    <tr>\n      <th>4</th>\n      <td>Cheese</td>\n      <td>This is a list of cheeses by place of origin. ...</td>\n      <td></td>\n      <td>None</td>\n    </tr>\n    <tr>\n      <th>5</th>\n      <td>Pomes</td>\n      <td>Pomes include any crunchy accessory fruit that...</td>\n      <td></td>\n      <td>None</td>\n    </tr>\n    <tr>\n      <th>...</th>\n      <td>...</td>\n      <td>...</td>\n      <td>...</td>\n      <td>...</td>\n    </tr>\n    <tr>\n      <th>140</th>\n      <td>Fish</td>\n      <td>Many species of fish are consumed as food in v...</td>\n      <td>https://en.wikipedia.org/wiki/Fish_as_food</td>\n      <td>None</td>\n    </tr>\n    <tr>\n      <th>141</th>\n      <td>Seafood</td>\n      <td>Seafood is any form of sea life regarded as fo...</td>\n      <td>https://en.wikipedia.org/wiki/Seafood</td>\n      <td>None</td>\n    </tr>\n    <tr>\n      <th>142</th>\n      <td>Nuts</td>\n      <td></td>\n      <td>https://en.wikipedia.org/wiki/List_of_culinary...</td>\n      <td>NaN</td>\n    </tr>\n    <tr>\n      <th>144</th>\n      <td>Sauces</td>\n      <td>A dip or dipping sauce is a common condiment f...</td>\n      <td>https://en.wikipedia.org/wiki/Dipping_sauce</td>\n      <td>NaN</td>\n    </tr>\n    <tr>\n      <th>145</th>\n      <td>Mushrooms</td>\n      <td>Edible mushrooms are the fleshy and edible fru...</td>\n      <td>https://en.wikipedia.org/wiki/Edible_mushroom</td>\n      <td>NaN</td>\n    </tr>\n  </tbody>\n</table>\n<p>117 rows × 4 columns</p>\n</div>"
     },
     "metadata": {},
     "execution_count": 206
    }
   ],
   "source": [
    "# Drop the \"By region, country, etc\"\n",
    "wiki_category = wiki_category[~wiki_category.name.str.startswith('By ')]"
   ]
  },
  {
   "cell_type": "code",
   "execution_count": 228,
   "metadata": {},
   "outputs": [
    {
     "output_type": "execute_result",
     "data": {
      "text/plain": [
       "                                        name  \\\n",
       "id                                             \n",
       "1                                     Breads   \n",
       "2                                Fried Dough   \n",
       "3                                      Dairy   \n",
       "4                                     Cheese   \n",
       "5                                      Pomes   \n",
       "6                                     Drupes   \n",
       "7                                   Citruses   \n",
       "8                                    Berries   \n",
       "9                                     Melons   \n",
       "10          Tropical and tropical-like fruit   \n",
       "11           Cacti and other succulent fruit   \n",
       "12  Plants with edible fruit-like structures   \n",
       "13             Long- and medium-length pasta   \n",
       "14                           Short-cut pasta   \n",
       "15                           Stretched pasta   \n",
       "16                                Soup pasta   \n",
       "17                        Pasta with filling   \n",
       "18                    Gnocchi and gnocchetti   \n",
       "\n",
       "                                          description wiki_url parent_category  \n",
       "id                                                                              \n",
       "1   d or steamed bread varieties. Bread has been a...                     None  \n",
       "2   This is a list of fried dough foods. Many cult...                     None  \n",
       "3   This is a list of dairy products. A dairy prod...                     None  \n",
       "4   This is a list of cheeses by place of origin. ...                     None  \n",
       "5   Pomes include any crunchy accessory fruit that...                     None  \n",
       "6   Drupes represent any fruit (even berry-sized) ...                     None  \n",
       "7   Citruses represent fruit known botanically as ...                     None  \n",
       "8   Berries represent any fruit that is berry-size...                     None  \n",
       "9   Melons represent any fruit in the family Cucur...                     None  \n",
       "10  Tropical and tropical-like fruit are any culin...                     None  \n",
       "11  Cacti and other succulent fruit are fruits tha...                     None  \n",
       "12  Plants with edible fruit-like structures are n...                     None  \n",
       "13  Long pasta may be made by extrusion or rolling...                     None  \n",
       "14  Short cut pasta (''pasta corta'') are mostly m...                     None  \n",
       "15  Strascinati are mostly hand-made disks of past...                     None  \n",
       "16  These are small types of pasta, mainly used in...                     None  \n",
       "17  The name raviolo (plur. ravioli) can be used a...                     None  \n",
       "18  The name raviolo (plur. ravioli) can be used a...                     None  "
      ],
      "text/html": "<div>\n<style scoped>\n    .dataframe tbody tr th:only-of-type {\n        vertical-align: middle;\n    }\n\n    .dataframe tbody tr th {\n        vertical-align: top;\n    }\n\n    .dataframe thead th {\n        text-align: right;\n    }\n</style>\n<table border=\"1\" class=\"dataframe\">\n  <thead>\n    <tr style=\"text-align: right;\">\n      <th></th>\n      <th>name</th>\n      <th>description</th>\n      <th>wiki_url</th>\n      <th>parent_category</th>\n    </tr>\n    <tr>\n      <th>id</th>\n      <th></th>\n      <th></th>\n      <th></th>\n      <th></th>\n    </tr>\n  </thead>\n  <tbody>\n    <tr>\n      <th>1</th>\n      <td>Breads</td>\n      <td>d or steamed bread varieties. Bread has been a...</td>\n      <td></td>\n      <td>None</td>\n    </tr>\n    <tr>\n      <th>2</th>\n      <td>Fried Dough</td>\n      <td>This is a list of fried dough foods. Many cult...</td>\n      <td></td>\n      <td>None</td>\n    </tr>\n    <tr>\n      <th>3</th>\n      <td>Dairy</td>\n      <td>This is a list of dairy products. A dairy prod...</td>\n      <td></td>\n      <td>None</td>\n    </tr>\n    <tr>\n      <th>4</th>\n      <td>Cheese</td>\n      <td>This is a list of cheeses by place of origin. ...</td>\n      <td></td>\n      <td>None</td>\n    </tr>\n    <tr>\n      <th>5</th>\n      <td>Pomes</td>\n      <td>Pomes include any crunchy accessory fruit that...</td>\n      <td></td>\n      <td>None</td>\n    </tr>\n    <tr>\n      <th>6</th>\n      <td>Drupes</td>\n      <td>Drupes represent any fruit (even berry-sized) ...</td>\n      <td></td>\n      <td>None</td>\n    </tr>\n    <tr>\n      <th>7</th>\n      <td>Citruses</td>\n      <td>Citruses represent fruit known botanically as ...</td>\n      <td></td>\n      <td>None</td>\n    </tr>\n    <tr>\n      <th>8</th>\n      <td>Berries</td>\n      <td>Berries represent any fruit that is berry-size...</td>\n      <td></td>\n      <td>None</td>\n    </tr>\n    <tr>\n      <th>9</th>\n      <td>Melons</td>\n      <td>Melons represent any fruit in the family Cucur...</td>\n      <td></td>\n      <td>None</td>\n    </tr>\n    <tr>\n      <th>10</th>\n      <td>Tropical and tropical-like fruit</td>\n      <td>Tropical and tropical-like fruit are any culin...</td>\n      <td></td>\n      <td>None</td>\n    </tr>\n    <tr>\n      <th>11</th>\n      <td>Cacti and other succulent fruit</td>\n      <td>Cacti and other succulent fruit are fruits tha...</td>\n      <td></td>\n      <td>None</td>\n    </tr>\n    <tr>\n      <th>12</th>\n      <td>Plants with edible fruit-like structures</td>\n      <td>Plants with edible fruit-like structures are n...</td>\n      <td></td>\n      <td>None</td>\n    </tr>\n    <tr>\n      <th>13</th>\n      <td>Long- and medium-length pasta</td>\n      <td>Long pasta may be made by extrusion or rolling...</td>\n      <td></td>\n      <td>None</td>\n    </tr>\n    <tr>\n      <th>14</th>\n      <td>Short-cut pasta</td>\n      <td>Short cut pasta (''pasta corta'') are mostly m...</td>\n      <td></td>\n      <td>None</td>\n    </tr>\n    <tr>\n      <th>15</th>\n      <td>Stretched pasta</td>\n      <td>Strascinati are mostly hand-made disks of past...</td>\n      <td></td>\n      <td>None</td>\n    </tr>\n    <tr>\n      <th>16</th>\n      <td>Soup pasta</td>\n      <td>These are small types of pasta, mainly used in...</td>\n      <td></td>\n      <td>None</td>\n    </tr>\n    <tr>\n      <th>17</th>\n      <td>Pasta with filling</td>\n      <td>The name raviolo (plur. ravioli) can be used a...</td>\n      <td></td>\n      <td>None</td>\n    </tr>\n    <tr>\n      <th>18</th>\n      <td>Gnocchi and gnocchetti</td>\n      <td>The name raviolo (plur. ravioli) can be used a...</td>\n      <td></td>\n      <td>None</td>\n    </tr>\n  </tbody>\n</table>\n</div>"
     },
     "metadata": {},
     "execution_count": 228
    }
   ],
   "source": [
    "wiki_category[wiki_category.wiki_url == '']\n"
   ]
  },
  {
   "cell_type": "code",
   "execution_count": null,
   "metadata": {},
   "outputs": [],
   "source": []
  }
 ]
}